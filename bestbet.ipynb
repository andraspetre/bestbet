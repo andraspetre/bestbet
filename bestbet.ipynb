{
 "cells": [
  {
   "cell_type": "code",
   "execution_count": 1,
   "metadata": {},
   "outputs": [],
   "source": [
    "## import packaget, libraries\n",
    "import pandas as pd\n",
    "import numpy as np\n",
    "import matplotlib\n",
    "import matplotlib.pyplot as plt \n",
    "%matplotlib inline"
   ]
  },
  {
   "cell_type": "code",
   "execution_count": 3,
   "metadata": {},
   "outputs": [],
   "source": [
    "## load csv file into a dataframe\n",
    "bestbet_all = pd.read_csv('/home/data_ap/hobbyprojects/bestbet/all_data.csv', delimiter = ';', \n",
    "                          names = ['my_date', 'game_id', 'round_id', 'risked_money', 'expected value', 'multipliers', 'chance_of_winning', 'did_they_win', 'how_much', 'new_stack'])"
   ]
  },
  {
   "cell_type": "code",
   "execution_count": 5,
   "metadata": {},
   "outputs": [
    {
     "data": {
      "text/html": [
       "<div>\n",
       "<style scoped>\n",
       "    .dataframe tbody tr th:only-of-type {\n",
       "        vertical-align: middle;\n",
       "    }\n",
       "\n",
       "    .dataframe tbody tr th {\n",
       "        vertical-align: top;\n",
       "    }\n",
       "\n",
       "    .dataframe thead th {\n",
       "        text-align: right;\n",
       "    }\n",
       "</style>\n",
       "<table border=\"1\" class=\"dataframe\">\n",
       "  <thead>\n",
       "    <tr style=\"text-align: right;\">\n",
       "      <th></th>\n",
       "      <th>my_date</th>\n",
       "      <th>game_id</th>\n",
       "      <th>round_id</th>\n",
       "      <th>risked_money</th>\n",
       "      <th>expected value</th>\n",
       "      <th>multipliers</th>\n",
       "      <th>chance_of_winning</th>\n",
       "      <th>did_they_win</th>\n",
       "      <th>how_much</th>\n",
       "      <th>new_stack</th>\n",
       "    </tr>\n",
       "  </thead>\n",
       "  <tbody>\n",
       "    <tr>\n",
       "      <th>0</th>\n",
       "      <td>2020-09-03</td>\n",
       "      <td>game_2</td>\n",
       "      <td>1</td>\n",
       "      <td>1</td>\n",
       "      <td>0.30</td>\n",
       "      <td>1.8</td>\n",
       "      <td>16</td>\n",
       "      <td>False</td>\n",
       "      <td>0</td>\n",
       "      <td>9999</td>\n",
       "    </tr>\n",
       "    <tr>\n",
       "      <th>1</th>\n",
       "      <td>2020-09-03</td>\n",
       "      <td>game_2</td>\n",
       "      <td>2</td>\n",
       "      <td>1</td>\n",
       "      <td>0.94</td>\n",
       "      <td>9.4</td>\n",
       "      <td>10</td>\n",
       "      <td>False</td>\n",
       "      <td>0</td>\n",
       "      <td>9998</td>\n",
       "    </tr>\n",
       "    <tr>\n",
       "      <th>2</th>\n",
       "      <td>2020-09-03</td>\n",
       "      <td>game_2</td>\n",
       "      <td>3</td>\n",
       "      <td>1</td>\n",
       "      <td>1.74</td>\n",
       "      <td>3.2</td>\n",
       "      <td>55</td>\n",
       "      <td>False</td>\n",
       "      <td>0</td>\n",
       "      <td>9997</td>\n",
       "    </tr>\n",
       "    <tr>\n",
       "      <th>3</th>\n",
       "      <td>2020-09-03</td>\n",
       "      <td>game_2</td>\n",
       "      <td>4</td>\n",
       "      <td>1</td>\n",
       "      <td>1.15</td>\n",
       "      <td>5.2</td>\n",
       "      <td>22</td>\n",
       "      <td>True</td>\n",
       "      <td>5</td>\n",
       "      <td>10001</td>\n",
       "    </tr>\n",
       "    <tr>\n",
       "      <th>4</th>\n",
       "      <td>2020-09-03</td>\n",
       "      <td>game_2</td>\n",
       "      <td>5</td>\n",
       "      <td>11</td>\n",
       "      <td>0.84</td>\n",
       "      <td>5.9</td>\n",
       "      <td>14</td>\n",
       "      <td>True</td>\n",
       "      <td>64</td>\n",
       "      <td>10054</td>\n",
       "    </tr>\n",
       "  </tbody>\n",
       "</table>\n",
       "</div>"
      ],
      "text/plain": [
       "      my_date game_id  round_id  risked_money  expected value  multipliers  \\\n",
       "0  2020-09-03  game_2         1             1            0.30          1.8   \n",
       "1  2020-09-03  game_2         2             1            0.94          9.4   \n",
       "2  2020-09-03  game_2         3             1            1.74          3.2   \n",
       "3  2020-09-03  game_2         4             1            1.15          5.2   \n",
       "4  2020-09-03  game_2         5            11            0.84          5.9   \n",
       "\n",
       "   chance_of_winning  did_they_win  how_much  new_stack  \n",
       "0                 16         False         0       9999  \n",
       "1                 10         False         0       9998  \n",
       "2                 55         False         0       9997  \n",
       "3                 22          True         5      10001  \n",
       "4                 14          True        64      10054  "
      ]
     },
     "execution_count": 5,
     "metadata": {},
     "output_type": "execute_result"
    }
   ],
   "source": [
    "bestbet_all.head()"
   ]
  },
  {
   "cell_type": "code",
   "execution_count": 17,
   "metadata": {},
   "outputs": [
    {
     "data": {
      "text/html": [
       "<div>\n",
       "<style scoped>\n",
       "    .dataframe tbody tr th:only-of-type {\n",
       "        vertical-align: middle;\n",
       "    }\n",
       "\n",
       "    .dataframe tbody tr th {\n",
       "        vertical-align: top;\n",
       "    }\n",
       "\n",
       "    .dataframe thead th {\n",
       "        text-align: right;\n",
       "    }\n",
       "</style>\n",
       "<table border=\"1\" class=\"dataframe\">\n",
       "  <thead>\n",
       "    <tr style=\"text-align: right;\">\n",
       "      <th></th>\n",
       "      <th>my_date</th>\n",
       "      <th>games_per_day</th>\n",
       "    </tr>\n",
       "  </thead>\n",
       "  <tbody>\n",
       "    <tr>\n",
       "      <th>0</th>\n",
       "      <td>2020-09-03</td>\n",
       "      <td>50</td>\n",
       "    </tr>\n",
       "    <tr>\n",
       "      <th>1</th>\n",
       "      <td>2020-09-04</td>\n",
       "      <td>600</td>\n",
       "    </tr>\n",
       "    <tr>\n",
       "      <th>2</th>\n",
       "      <td>2020-09-05</td>\n",
       "      <td>1900</td>\n",
       "    </tr>\n",
       "    <tr>\n",
       "      <th>3</th>\n",
       "      <td>2020-09-06</td>\n",
       "      <td>50</td>\n",
       "    </tr>\n",
       "    <tr>\n",
       "      <th>4</th>\n",
       "      <td>2020-09-07</td>\n",
       "      <td>150</td>\n",
       "    </tr>\n",
       "  </tbody>\n",
       "</table>\n",
       "</div>"
      ],
      "text/plain": [
       "      my_date  games_per_day\n",
       "0  2020-09-03             50\n",
       "1  2020-09-04            600\n",
       "2  2020-09-05           1900\n",
       "3  2020-09-06             50\n",
       "4  2020-09-07            150"
      ]
     },
     "execution_count": 17,
     "metadata": {},
     "output_type": "execute_result"
    }
   ],
   "source": [
    "## how many games are played per day \n",
    "games_per_day = bestbet_all.groupby('my_date').count()[['game_id']]\n",
    "## rename user_id column to a more meaningful one\n",
    "games_per_day.rename(columns = {'game_id': 'games_per_day'}, inplace= True)\n",
    "games_per_day.reset_index().head()\n"
   ]
  },
  {
   "cell_type": "code",
   "execution_count": 25,
   "metadata": {},
   "outputs": [],
   "source": [
    "# divide by 50 because 1 game is 50 round\n",
    "games_per_day = games_per_day/50"
   ]
  },
  {
   "cell_type": "code",
   "execution_count": 26,
   "metadata": {},
   "outputs": [
    {
     "data": {
      "text/plain": [
       "([<matplotlib.axis.XTick at 0x7f3fb69c4f60>,\n",
       "  <matplotlib.axis.XTick at 0x7f3fb6a92f60>,\n",
       "  <matplotlib.axis.XTick at 0x7f3fb6a390f0>,\n",
       "  <matplotlib.axis.XTick at 0x7f3fb68ecc50>,\n",
       "  <matplotlib.axis.XTick at 0x7f3fb692b198>],\n",
       " <a list of 5 Text xticklabel objects>)"
      ]
     },
     "execution_count": 26,
     "metadata": {},
     "output_type": "execute_result"
    },
    {
     "data": {
      "image/png": "[encoded data removed]",
      "text/plain": [
       "<matplotlib.figure.Figure at 0x7f3fb6a555c0>"
      ]
     },
     "metadata": {
      "needs_background": "light"
     },
     "output_type": "display_data"
    }
   ],
   "source": [
    "## show the games/days trend - one case over 4000 games one that game\n",
    "\n",
    "games_per_day.plot()\n",
    "plt.title('Games per day trend', y = 1.07, fontsize = 14)\n",
    "## show a couple of dates on x axis\n",
    "plt.xticks([0, 43, 85, 128, 171], ['2020-09-03', '2021-01-15','2021-01-31', '2021-03-17','2021-05-21'], fontsize = 8, rotation = 45)\n"
   ]
  },
  {
   "cell_type": "code",
   "execution_count": 27,
   "metadata": {},
   "outputs": [
    {
     "data": {
      "text/plain": [
       "Text(0.5,1.07,'Games per day distribution')"
      ]
     },
     "execution_count": 27,
     "metadata": {},
     "output_type": "execute_result"
    },
    {
     "data": {
      "image/png": "[encoded data removed]",
      "text/plain": [
       "<matplotlib.figure.Figure at 0x7f3fb69c4e80>"
      ]
     },
     "metadata": {
      "needs_background": "light"
     },
     "output_type": "display_data"
    }
   ],
   "source": [
    "## distribution showing the scores - on one day is over 4000, but mostly around and under 500 games per day\n",
    "games_per_day.hist(bins = 30)\n",
    "plt.title('Games per day distribution', y = 1.07, fontsize = 14)"
   ]
  },
  {
   "cell_type": "code",
   "execution_count": 7,
   "metadata": {},
   "outputs": [
    {
     "data": {
      "text/plain": [
       "games_per_day    2247.585635\n",
       "dtype: float64"
      ]
     },
     "execution_count": 7,
     "metadata": {},
     "output_type": "execute_result"
    }
   ],
   "source": [
    "## avarege number of games (mean) - moch more then the median, because of the one day with 4000 (!) games\n",
    "games_per_day.mean()"
   ]
  },
  {
   "cell_type": "code",
   "execution_count": 8,
   "metadata": {},
   "outputs": [
    {
     "data": {
      "text/plain": [
       "games_per_day    250.0\n",
       "dtype: float64"
      ]
     },
     "execution_count": 8,
     "metadata": {},
     "output_type": "execute_result"
    }
   ],
   "source": [
    "## avarege number of games (median) \n",
    "games_per_day.median()"
   ]
  },
  {
   "cell_type": "code",
   "execution_count": 9,
   "metadata": {},
   "outputs": [
    {
     "data": {
      "text/plain": [
       "8831"
      ]
     },
     "execution_count": 9,
     "metadata": {},
     "output_type": "execute_result"
    }
   ],
   "source": [
    "##How many games were played?\n",
    "all_num_of_games = bestbet_all.groupby('game_id').count().count().my_date\n",
    "all_num_of_games"
   ]
  },
  {
   "cell_type": "code",
   "execution_count": 10,
   "metadata": {},
   "outputs": [
    {
     "data": {
      "text/plain": [
       "1219"
      ]
     },
     "execution_count": 10,
     "metadata": {},
     "output_type": "execute_result"
    }
   ],
   "source": [
    "## How many games ended with the player losing (score went down to 0)?\n",
    "all_games_with_0 = bestbet_all[bestbet_all.new_stack == 0].groupby('game_id').count().count().new_stack\n",
    "all_games_with_0"
   ]
  },
  {
   "cell_type": "code",
   "execution_count": 11,
   "metadata": {},
   "outputs": [
    {
     "data": {
      "text/plain": [
       "13.803646246178236"
      ]
     },
     "execution_count": 11,
     "metadata": {},
     "output_type": "execute_result"
    }
   ],
   "source": [
    "# count percentage\n",
    "all_games_with_0/all_num_of_games *100"
   ]
  },
  {
   "cell_type": "code",
   "execution_count": 12,
   "metadata": {},
   "outputs": [],
   "source": [
    "## What's the average (mean) score? How many people are below and above the average?\n",
    "## 1. avarage\n",
    "bestbet_score_mean = bestbet_all[bestbet_all.round_id == 50].new_stack.mean()"
   ]
  },
  {
   "cell_type": "code",
   "execution_count": 13,
   "metadata": {},
   "outputs": [
    {
     "data": {
      "text/plain": [
       "62004941.77995643"
      ]
     },
     "execution_count": 13,
     "metadata": {},
     "output_type": "execute_result"
    }
   ],
   "source": [
    "bestbet_score_mean"
   ]
  },
  {
   "cell_type": "code",
   "execution_count": 14,
   "metadata": {},
   "outputs": [],
   "source": [
    "## 2 How many people are below the avarage - about 7800 games(people) are below "
   ]
  },
  {
   "cell_type": "code",
   "execution_count": 15,
   "metadata": {},
   "outputs": [
    {
     "data": {
      "text/plain": [
       "new_stack    7784\n",
       "dtype: int64"
      ]
     },
     "execution_count": 15,
     "metadata": {},
     "output_type": "execute_result"
    }
   ],
   "source": [
    "scores = bestbet_all[bestbet_all.round_id == 50][['new_stack']].sort_values('new_stack')\n",
    "\n",
    "below_mean = scores[scores.new_stack < bestbet_score_mean].count()\n",
    "below_mean"
   ]
  },
  {
   "cell_type": "code",
   "execution_count": 16,
   "metadata": {},
   "outputs": [
    {
     "data": {
      "text/plain": [
       "new_stack    19\n",
       "dtype: int64"
      ]
     },
     "execution_count": 16,
     "metadata": {},
     "output_type": "execute_result"
    }
   ],
   "source": [
    "## 3 How many people are above the avarage -  19 games(people) are above -> much more are above the avarage (mean)\n",
    "above_mean = scores[scores.new_stack > bestbet_score_mean].count()\n",
    "above_mean"
   ]
  },
  {
   "cell_type": "code",
   "execution_count": 17,
   "metadata": {},
   "outputs": [
    {
     "data": {
      "image/png": "[encoded data removed]",
      "text/plain": [
       "<matplotlib.figure.Figure at 0x7f537e239748>"
      ]
     },
     "metadata": {},
     "output_type": "display_data"
    }
   ],
   "source": [
    "## Pie chart (below/above) - tiny part of the scores are above the avarage which is a quite high number\n",
    "numbers = [7777, 19]\n",
    "\n",
    "my_labels = 'Below','Above'\n",
    "plt.pie(numbers,autopct='%1.1f%%')\n",
    "plt.title('Relationship to avarage', y = 1.07, fontsize = 14)\n",
    "plt.legend(labels = my_labels, bbox_to_anchor = (1.15, 0.5), loc = 'right', fontsize = 12)\n",
    "plt.axis('equal')\n",
    "plt.show()"
   ]
  },
  {
   "cell_type": "code",
   "execution_count": 18,
   "metadata": {},
   "outputs": [
    {
     "name": "stderr",
     "output_type": "stream",
     "text": [
      "/usr/local/lib/python3.6/dist-packages/ipykernel_launcher.py:5: FutureWarning: currently extract(expand=None) means expand=False (return Index/Series/DataFrame) but in a future version of pandas this will be changed to expand=True (return DataFrame)\n",
      "  \"\"\"\n"
     ]
    },
    {
     "data": {
      "text/plain": [
       "<matplotlib.axes._subplots.AxesSubplot at 0x7f537c9536d8>"
      ]
     },
     "execution_count": 18,
     "metadata": {},
     "output_type": "execute_result"
    },
    {
     "data": {
      "image/png": "[encoded data removed]",
      "text/plain": [
       "<matplotlib.figure.Figure at 0x7f538600a0f0>"
      ]
     },
     "metadata": {
      "needs_background": "light"
     },
     "output_type": "display_data"
    }
   ],
   "source": [
    "## Plot the average stack per round on a chart!  - there is an outstanding value about 5000 game_id\n",
    "   ## 1. solution: avarage stack: sum 50 rounds new stack/50\n",
    "    \n",
    "## replace 'game_x' to 'x' and convert to integer datatype\n",
    "bestbet_all_game_id_mod = bestbet_all.assign(game_id = lambda x: x['game_id'].str.extract('(\\d+)'))\n",
    "tmp = bestbet_all_game_id_mod[['game_id', 'new_stack']].groupby('game_id').sum()/50\n",
    "tmp = tmp.reset_index(drop = False)\n",
    "tmp['game_id'] = tmp['game_id'].astype(int)\n",
    "avarage_stack_per_round = tmp.sort_values('game_id')\n",
    "\n",
    "## drop original index and rename new_stack > avarage_stack\n",
    "avarage_stack_per_round = avarage_stack_per_round.reset_index(drop = True)\n",
    "avarage_stack_per_round = avarage_stack_per_round.rename(columns={'new_stack': 'avarage_stack'})\n",
    "\n",
    "## plotting\n",
    "avarage_stack_per_round.avarage_stack.plot()"
   ]
  },
  {
   "cell_type": "code",
   "execution_count": 30,
   "metadata": {},
   "outputs": [
    {
     "name": "stderr",
     "output_type": "stream",
     "text": [
      "/usr/local/lib/python3.6/dist-packages/ipykernel_launcher.py:9: SettingWithCopyWarning: \n",
      "A value is trying to be set on a copy of a slice from a DataFrame.\n",
      "Try using .loc[row_indexer,col_indexer] = value instead\n",
      "\n",
      "See the caveats in the documentation: http://pandas.pydata.org/pandas-docs/stable/indexing.html#indexing-view-versus-copy\n",
      "  if __name__ == '__main__':\n",
      "/usr/local/lib/python3.6/dist-packages/ipykernel_launcher.py:15: SettingWithCopyWarning: \n",
      "A value is trying to be set on a copy of a slice from a DataFrame.\n",
      "Try using .loc[row_indexer,col_indexer] = value instead\n",
      "\n",
      "See the caveats in the documentation: http://pandas.pydata.org/pandas-docs/stable/indexing.html#indexing-view-versus-copy\n",
      "  from ipykernel import kernelapp as app\n"
     ]
    },
    {
     "data": {
      "text/plain": [
       "<matplotlib.axes._subplots.AxesSubplot at 0x7f537c400f98>"
      ]
     },
     "execution_count": 30,
     "metadata": {},
     "output_type": "execute_result"
    },
    {
     "data": {
      "image/png": "[encoded data removed]",
      "text/plain": [
       "<matplotlib.figure.Figure at 0x7f537c4c3668>"
      ]
     },
     "metadata": {
      "needs_background": "light"
     },
     "output_type": "display_data"
    }
   ],
   "source": [
    "## 2. solution: avarage stack = 50. new stack - 10000 (initial) /50  - same reasult as by the 1. solution\n",
    "avarage_stack_per_round_2 = bestbet_all[bestbet_all.round_id == 50]\n",
    "avarage_stack_per_round_2[['game_id', 'new_stack']]\n",
    "\n",
    "## subtract 10000 which is the initial money\n",
    "def subtract_10000(stack):\n",
    "    return stack-10000\n",
    "\n",
    "avarage_stack_per_round_2['new_stack'] = avarage_stack_per_round_2['new_stack'].apply(subtract_10000)\n",
    "\n",
    "## divide by 50 to get the avarage per round\n",
    "def divide_50(stack):\n",
    "    return stack/50\n",
    "\n",
    "avarage_stack_per_round_2['new_stack'] = avarage_stack_per_round_2['new_stack'].apply(divide_50)\n",
    "\n",
    "## rename new_stack > avarage_stack\n",
    "avarage_stack_per_round_2 = avarage_stack_per_round_2.rename(columns={'new_stack': 'avarage_stack'})\n",
    "avarage_stack_per_round_2[['game_id', 'avarage_stack']].reset_index(drop = True).plot()\n"
   ]
  },
  {
   "cell_type": "code",
   "execution_count": 20,
   "metadata": {},
   "outputs": [
    {
     "data": {
      "text/plain": [
       "how_much    2.777535e+06\n",
       "dtype: float64"
      ]
     },
     "execution_count": 20,
     "metadata": {},
     "output_type": "execute_result"
    }
   ],
   "source": [
    "## avarage win/round    \n",
    "\n",
    "##with 0's\n",
    "win_per_round_all = bestbet_all.fillna('unknown')\n",
    "win_per_round_all = bestbet_all[['how_much']].mean()\n",
    "win_per_round_all"
   ]
  },
  {
   "cell_type": "code",
   "execution_count": 21,
   "metadata": {},
   "outputs": [
    {
     "data": {
      "text/plain": [
       "how_much    8.385809e+06\n",
       "dtype: float64"
      ]
     },
     "execution_count": 21,
     "metadata": {},
     "output_type": "execute_result"
    }
   ],
   "source": [
    "## without 0's\n",
    "win_per_round = bestbet_all.fillna('unknown')\n",
    "win_per_round = bestbet_all[win_per_round.how_much > 0]\n",
    "win_per_round = win_per_round[['how_much']].mean()\n",
    "win_per_round"
   ]
  },
  {
   "cell_type": "code",
   "execution_count": 22,
   "metadata": {},
   "outputs": [
    {
     "data": {
      "text/plain": [
       "how_much    3.019155\n",
       "dtype: float64"
      ]
     },
     "execution_count": 22,
     "metadata": {},
     "output_type": "execute_result"
    }
   ],
   "source": [
    "## ratio between with 0's and without 0's\n",
    "win_per_round/win_per_round_all"
   ]
  },
  {
   "cell_type": "code",
   "execution_count": 23,
   "metadata": {},
   "outputs": [
    {
     "data": {
      "text/plain": [
       "<matplotlib.axes._subplots.AxesSubplot at 0x7f537e2a1ef0>"
      ]
     },
     "execution_count": 23,
     "metadata": {},
     "output_type": "execute_result"
    },
    {
     "data": {
      "image/png": "[encoded data removed]",
      "text/plain": [
       "<matplotlib.figure.Figure at 0x7f537e20acc0>"
      ]
     },
     "metadata": {
      "needs_background": "light"
     },
     "output_type": "display_data"
    }
   ],
   "source": [
    "## avarage win/day \n",
    "avarage_win_day = bestbet_all[['my_date', 'how_much']].groupby('my_date').sum().plot()\n",
    "avarage_win_day\n"
   ]
  },
  {
   "cell_type": "code",
   "execution_count": 27,
   "metadata": {},
   "outputs": [
    {
     "data": {
      "text/plain": [
       "<matplotlib.axes._subplots.AxesSubplot at 0x7f537c53c4a8>"
      ]
     },
     "execution_count": 27,
     "metadata": {},
     "output_type": "execute_result"
    },
    {
     "data": {
      "image/png": "[encoded data removed]",
      "text/plain": [
       "<matplotlib.figure.Figure at 0x7f537c55a5f8>"
      ]
     },
     "metadata": {
      "needs_background": "light"
     },
     "output_type": "display_data"
    }
   ],
   "source": [
    "## win/not win trends/day\n",
    "\n",
    "wins_per_day = bestbet_all[bestbet_all.did_they_win == True]\n",
    "plt.title('Wins trend by day', y = 1.07, fontsize = 14)\n",
    "wins_per_day.groupby('my_date').count().did_they_win.plot()"
   ]
  },
  {
   "cell_type": "code",
   "execution_count": 28,
   "metadata": {},
   "outputs": [
    {
     "data": {
      "text/plain": [
       "<matplotlib.axes._subplots.AxesSubplot at 0x7f537c4ac978>"
      ]
     },
     "execution_count": 28,
     "metadata": {},
     "output_type": "execute_result"
    },
    {
     "data": {
      "image/png": "[encoded data removed]",
      "text/plain": [
       "<matplotlib.figure.Figure at 0x7f537c5e1a58>"
      ]
     },
     "metadata": {
      "needs_background": "light"
     },
     "output_type": "display_data"
    }
   ],
   "source": [
    "not_wins_per_day = bestbet_all[bestbet_all.did_they_win == False]\n",
    "plt.title('Loses trend by day', y = 1.07, fontsize = 14)\n",
    "not_wins_per_day.groupby('my_date').count().did_they_win.plot()"
   ]
  }
 ],
 "metadata": {
  "kernelspec": {
   "display_name": "Python 3",
   "language": "python",
   "name": "python3"
  },
  "language_info": {
   "codemirror_mode": {
    "name": "ipython",
    "version": 3
   },
   "file_extension": ".py",
   "mimetype": "text/x-python",
   "name": "python",
   "nbconvert_exporter": "python",
   "pygments_lexer": "ipython3",
   "version": "3.6.9"
  }
 },
 "nbformat": 4,
 "nbformat_minor": 4
}
